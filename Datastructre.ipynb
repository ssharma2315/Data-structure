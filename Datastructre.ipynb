{
  "nbformat": 4,
  "nbformat_minor": 0,
  "metadata": {
    "colab": {
      "provenance": []
    },
    "kernelspec": {
      "name": "python3",
      "display_name": "Python 3"
    },
    "language_info": {
      "name": "python"
    }
  },
  "cells": [
    {
      "cell_type": "markdown",
      "source": [],
      "metadata": {
        "id": "OWFZJuKw5FPJ"
      }
    },
    {
      "cell_type": "markdown",
      "source": [
        "# Datastructre\n"
      ],
      "metadata": {
        "id": "FwLTzKZ_5NWh"
      }
    },
    {
      "cell_type": "markdown",
      "source": [
        "1. What are data structures, and why are they important?\n",
        "- Data structures are ways of organizing and storing data in a computer so that it can be accessed and modified efficiently.\n",
        "\n",
        "2. Explain the difference between mutable and immutable data types with examples?\n",
        "-In programming, mutable and immutable refer to whether an object’s state or value can be changed after it is created.\n",
        "- Mutable Data Types: These are data types whose value or state can be changed or modified after they have been created.\n",
        "- Immutable Data Types: These are data types whose value or state cannot be changed once they have been created. Any operation that seems to modify an immutable object actually creates a new object with a new value.\n",
        "\n",
        "3. What are the main differences between lists and tuples in Python?\n",
        "- Mutability - Lists are mutable whereas tuples are not mutable.\n",
        "- Syntax - list uses square brackets[] whereas tuple uses parentheses ().\n",
        "\n",
        "4. Describe how dictionaries store data?\n",
        "A dictionary consists of keys and values:\n",
        "- Key: A unique identifier used to access a corresponding value.\n",
        "- Value: The data associated with a key. A value can be of any data type, including another dictionary, list, or even a function.\n",
        "\n",
        "5. Why might you use a set instead of a list in Python?\n",
        "- 1. Elimination of Duplicates\n",
        "- 2. Faster Membership Testing\n",
        "- 3. Better Performance for Large Data\n",
        "\n",
        "6. What is a string in Python, and how is it different from a list?\n",
        "- In Python, a string is a sequence of characters enclosed in single quotes (') or double quotes (\"). Strings are used to represent textual data and are a built-in data type in Python.\n",
        "- A string is a sequence of characters. Each character in a string is of type str (string).A list is a collection that can hold elements of any data type (integers, strings, other lists, objects, etc.). Lists can store a combination of different types of data.\n",
        "- String is immutable where as list is mutable.\n",
        "\n",
        "7. How do tuples ensure data integrity in Python?\n",
        "- 1. Immutability: Preventing Accidental Modification\n",
        "- 2. Prevention of Accidental Data Loss or Corruption\n",
        "- 3. Hashability and Use as Dictionary Keys\n",
        "- 4. Reduced Risk of Side Effects in Functions\n",
        "\n",
        "8. What is a hash table, and how does it relate to dictionaries in Python?\n",
        "- A hash table (also known as a hash map) is a data structure that is used to store key-value pairs. The key idea behind a hash table is to use a hash function to convert a key into an index or hash code where the corresponding value is stored. This allows for efficient lookup, insertion, and deletion of data.\n",
        "- Keys are hashed: In a Python dictionary, the key is passed through a hash function. The hash value (or index) determines where the value is stored in the dictionary's underlying data structure (which is a hash table).\n",
        "- Efficient Access\n",
        "- Handling Collisions\n",
        "\n",
        "9. Can lists contain different data types in Python?\n",
        "List can contain contain different data types. Unlike other data structures in some programming languages that require elements to be of the same type, Python's lists are flexible and allow you to mix data types within a single list.\n",
        "\n",
        "10. Explain why strings are immutable in Python?\n",
        "- Memory Allocation: Immutable objects allow Python to make safe assumptions about how they are stored and used. Since strings are immutable, the memory that holds a string’s value can be optimized and reused in a way that wouldn't be possible with mutable objects.\n",
        "- Memory Allocation: Immutable objects allow Python to make safe assumptions about how they are stored and used. Since strings are immutable, the memory that holds a string’s value can be optimized and reused in a way that wouldn't be possible with mutable objects.\n",
        "\n",
        "11. What advantages do dictionaries offer over lists for certain task?\n",
        "- Storing Key-Value Pairs (Mapping Data)\n",
        "- Handling Uniqueness and Preventing Duplicates\n",
        "- Efficient Membership Tests\n",
        "\n",
        "12. Describe a scenario where using a tuple would be preferable over a list?\n",
        "- Where the data is fixed, such as representing coordinates in a 2D grid, using a tuple provides clear advantages in terms of immutability, performance, and data integrity. The tuple ensures that the coordinates cannot be modified accidentally, offers better memory and processing efficiency, and can be used as a dictionary key, making it the preferred choice over a list in this case.\n",
        "\n",
        "13. How do sets handle duplicate values in Python?\n",
        "- Sets automatically remove duplicates: If you try to add the same value to a set, it will ignore the duplicate.\n",
        "- Unique elements: A set always contains only unique elements.\n",
        "- Efficient: The set is a highly efficient data structure for checking the uniqueness of elements and performing set operations like union, intersection, and difference.\n",
        "\n",
        "14. How does the “in” keyword work differently for lists and dictionaries?\n",
        "- When the in keyword is used with a list, Python checks if the specified element exists anywhere in the list, and the check is done by linear search. This means Python will start at the beginning of the list and check each item until it finds the specified value or reaches the end of the list.\n",
        "- When the in keyword is used with a dictionary, it checks if a key exists in the dictionary, not the value. Python internally checks for the presence of the key using a highly efficient hashing mechanism.\n",
        "\n",
        "15. Can you modify the elements of a tuple? Explain why or why not?\n",
        "- No, you cannot modify the elements of a tuple after it has been created. This is because tuples in Python are immutable, meaning that once a tuple is created, its contents cannot be changed (i.e., you cannot add, remove, or change the elements of a tuple).\n",
        "\n",
        "16. What is a nested dictionary, and give an example of its use case?\n",
        "- A nested dictionary is a dictionary where the values themselves are dictionaries. Essentially, it's a dictionary within a dictionary. This allows for more complex, hierarchical data structures where you can store multiple levels of information in an organized way.\n",
        "\n",
        "17. Describe the time complexity of accessing elements in a dictionary?\n",
        "- Dictionaries in Python are optimized for fast lookups using hashing, with an average time complexity of O(1) for accessing elements. Although hash collisions can cause a worst-case scenario of O(n), this is unlikely due to Python’s efficient handling of collisions. In practical terms, dictionary lookups are extremely fast and generally constant in time.\n",
        "\n",
        "\n",
        "18. In what situations are lists preferred over dictionaries?\n",
        "- Use Case\tPreferred Data Structure\n",
        "- When order of elements matters:\tList\n",
        "- When you need a simple collection of items:\tList\n",
        "- When you need index-based access:\tList\n",
        "- When you need to allow duplicate elements\t:List\n",
        "- When you need to perform sequential operations or iteration:\tList\n",
        "- When fast key-based lookups are not needed\t:List\n",
        "- When you need list-specific methods like append(), insert(), sort():\tList\n",
        "- When storing homogeneous data:\tList\n",
        "\n",
        " 19.  Why are dictionaries considered unordered, and how does that affect data retrieval?\n",
        "\n",
        " - Dictionaries were unordered because they were implemented using hash tables, which prioritize fast lookups over maintaining insertion order. This meant data retrieval was based on key access, and the order of items when iterating or printing could not be predicted.\n",
        "\n",
        " 20. Explain the difference between a list and a dictionary in terms of data retrieval.\n",
        "\n",
        "- Lists are ideal when you need to store a sequence of elements and retrieve them based on their position or index.\n",
        "\n",
        "- Dictionaries are ideal when you need to retrieve values efficiently using a key and when you need to associate data in a key-value structure.\n",
        "\n",
        "\n",
        "\n",
        "\n"
      ],
      "metadata": {
        "id": "UlfUFX2Q6du8"
      }
    },
    {
      "cell_type": "code",
      "source": [
        "# 1. Write a code to create a string with your name and print it?\n",
        "name = input(\"Enter your name:\")\n",
        "print(name)\n"
      ],
      "metadata": {
        "id": "xdQUdKuq_A2T"
      },
      "execution_count": null,
      "outputs": []
    },
    {
      "cell_type": "code",
      "source": [
        "#2. Write a code to find the length of the string \"Hello World\"?\n",
        "string = \"hello world\"\n",
        "print(len(string))\n"
      ],
      "metadata": {
        "id": "P4ck4Hnj_K8Y"
      },
      "execution_count": null,
      "outputs": []
    },
    {
      "cell_type": "code",
      "source": [
        "#3. Write a code to slice the first 3 characters from the string \"Python Programming\"?\n",
        "string = \"Pyhton Programming\"\n",
        "print(string[0:3])"
      ],
      "metadata": {
        "id": "h9ZETzDm_UTx"
      },
      "execution_count": null,
      "outputs": []
    },
    {
      "cell_type": "code",
      "source": [
        "#4. Write a code to convert the string \"hello\" to uppercase?\n",
        "string = \"hello\"\n",
        "print(string.upper())"
      ],
      "metadata": {
        "colab": {
          "base_uri": "https://localhost:8080/"
        },
        "id": "b4eHQh90_ffC",
        "outputId": "5d6c923c-5c32-4b0f-f3f5-c46e42685b86"
      },
      "execution_count": 2,
      "outputs": [
        {
          "output_type": "stream",
          "name": "stdout",
          "text": [
            "HELLO\n"
          ]
        }
      ]
    },
    {
      "cell_type": "code",
      "source": [
        "#5. Write a code to replace the word \"apple\" with \"orange\" in the string \"I like apple\"?\n",
        "string = \"I like apple\"\n",
        "print(string.replace(\"apple\" , \"orange\"))"
      ],
      "metadata": {
        "colab": {
          "base_uri": "https://localhost:8080/"
        },
        "id": "cU1G3nh2_xea",
        "outputId": "f81ea77f-9007-4554-a6ba-bd2f7d82d375"
      },
      "execution_count": 3,
      "outputs": [
        {
          "output_type": "stream",
          "name": "stdout",
          "text": [
            "I like orange\n"
          ]
        }
      ]
    },
    {
      "cell_type": "code",
      "source": [
        "#6. Write a code to create a list with numbers 1 to 5 and print it?\n",
        "list_1 = []\n",
        "for i in range(1,6):\n",
        "  list_1.append(i)\n",
        "print(list_1)\n"
      ],
      "metadata": {
        "colab": {
          "base_uri": "https://localhost:8080/"
        },
        "id": "dF_vioLH__39",
        "outputId": "6dd48fd0-1e5a-46d4-c290-abe78af6c3e2"
      },
      "execution_count": 4,
      "outputs": [
        {
          "output_type": "stream",
          "name": "stdout",
          "text": [
            "[1, 2, 3, 4, 5]\n"
          ]
        }
      ]
    },
    {
      "cell_type": "code",
      "source": [
        "#7. Write a code to append the number 10 to the list [1, 2, 3, 4]?\n",
        "list_1 = [1,2,3,4]\n",
        "list_1.append(10)\n",
        "print(list_1)"
      ],
      "metadata": {
        "id": "lU__UFHbASHH"
      },
      "execution_count": null,
      "outputs": []
    },
    {
      "cell_type": "code",
      "source": [
        "#8. Write a code to remove the number 3 from the list [1, 2, 3, 4, 5]?\n",
        "list_1  = [1,2,3,4,5]\n",
        "list_1.remove(3)\n",
        "print(list_1)"
      ],
      "metadata": {
        "colab": {
          "base_uri": "https://localhost:8080/"
        },
        "id": "KWRxkRpeA8PL",
        "outputId": "37e3641a-024f-4f7b-9c1a-24cda8ef4e35"
      },
      "execution_count": 5,
      "outputs": [
        {
          "output_type": "stream",
          "name": "stdout",
          "text": [
            "[1, 2, 4, 5]\n"
          ]
        }
      ]
    },
    {
      "cell_type": "code",
      "source": [
        "#9. Write a code to access the second element in the list ['a', 'b', 'c', 'd']?\n",
        "list_1  = ['a', 'b', 'c','d']\n",
        "print(list_1[1])\n"
      ],
      "metadata": {
        "id": "r3u3G9NYBLV9"
      },
      "execution_count": null,
      "outputs": []
    },
    {
      "cell_type": "code",
      "source": [
        "# 10. Write a code to reverse the list [10, 20, 30, 40, 50].\n",
        "list_1 = [10,20,30,40,50]\n",
        "print(list_1[::-1])"
      ],
      "metadata": {
        "colab": {
          "base_uri": "https://localhost:8080/"
        },
        "id": "mkw6X9xSBZb6",
        "outputId": "a3bd5970-2498-491d-eb1d-1642c8b7d1e5"
      },
      "execution_count": 6,
      "outputs": [
        {
          "output_type": "stream",
          "name": "stdout",
          "text": [
            "[50, 40, 30, 20, 10]\n"
          ]
        }
      ]
    },
    {
      "cell_type": "code",
      "source": [
        "# 11. Write a code to create a tuple with the elements 100, 200, 300 and print it.\n",
        "tuple_1 = (100, 200, 300)\n",
        "print(tuple_1)"
      ],
      "metadata": {
        "id": "ABMv-_YxBl6c"
      },
      "execution_count": null,
      "outputs": []
    },
    {
      "cell_type": "code",
      "source": [
        "# 12. Write a code to access the second-to-last element of the tuple ('red', 'green', 'blue', 'yellow').\n",
        "tuple_1  =('red', 'green', 'blue', 'yellow')\n",
        "print(tuple_1[-2])\n",
        "\n"
      ],
      "metadata": {
        "id": "3ShD9iuDBwgc"
      },
      "execution_count": null,
      "outputs": []
    },
    {
      "cell_type": "code",
      "source": [
        "# 13. Write a code to find the minimum number in the tuple (10, 20, 5, 15).\n",
        "tuple_1  = (10, 20, 5, 15)\n",
        "print(min(tuple_1))\n"
      ],
      "metadata": {
        "colab": {
          "base_uri": "https://localhost:8080/"
        },
        "id": "il4khuYgB9-s",
        "outputId": "26ef5f59-585c-4b43-b4b7-3c05d239b4f6"
      },
      "execution_count": 10,
      "outputs": [
        {
          "output_type": "stream",
          "name": "stdout",
          "text": [
            "5\n"
          ]
        }
      ]
    },
    {
      "cell_type": "code",
      "source": [
        "# 14. Write a code to find the index of the element \"cat\" in the tuple ('dog', 'cat', 'rabbit').\n",
        "tuple_1 =  ('dog', 'cat', 'rabbit')\n",
        "print(tuple_1.index(\"cat\"))\n",
        "\n"
      ],
      "metadata": {
        "colab": {
          "base_uri": "https://localhost:8080/"
        },
        "id": "Oun3s2I1CVkY",
        "outputId": "df479201-75fe-4b04-e4f9-f5a350ef42a4"
      },
      "execution_count": 11,
      "outputs": [
        {
          "output_type": "stream",
          "name": "stdout",
          "text": [
            "1\n"
          ]
        }
      ]
    },
    {
      "cell_type": "code",
      "source": [
        "# 15. Write a code to create a tuple containing three different fruits and check if \"kiwi\" is in it.\n",
        "tuple_1 = (\"Apple\" , \"kiwi\" , \"banana\")\n",
        "if \"kiwi\" in tuple_1:\n",
        "  print(\"kiwi is in the tuple\")\n",
        "else:\n",
        "  print(\"kiwi is not in the tuple\")"
      ],
      "metadata": {
        "id": "kuWk2yODCkSt"
      },
      "execution_count": null,
      "outputs": []
    },
    {
      "cell_type": "code",
      "source": [
        "# 16. Write a code to create a set with the elements 'a', 'b', 'c' and print it.\n",
        "set_1 = {'a','b', 'c'}\n",
        "print(set_1)\n"
      ],
      "metadata": {
        "id": "pkOUoagrC-Aj"
      },
      "execution_count": null,
      "outputs": []
    },
    {
      "cell_type": "code",
      "source": [
        "# 17. Write a code to clear all elements from the set {1, 2, 3, 4, 5}.\n",
        "set_1  = {1, 2, 3, 4, 5}\n",
        "set_1.clear()\n",
        "print(set_1)\n",
        "\n"
      ],
      "metadata": {
        "colab": {
          "base_uri": "https://localhost:8080/"
        },
        "id": "N54FJh6cDOtz",
        "outputId": "0b1f22ef-31ce-4e75-bb57-38df928dcbbd"
      },
      "execution_count": 12,
      "outputs": [
        {
          "output_type": "stream",
          "name": "stdout",
          "text": [
            "set()\n"
          ]
        }
      ]
    },
    {
      "cell_type": "code",
      "source": [
        "# 18. Write a code to remove the element 4 from the set {1, 2, 3, 4}.\n",
        "set_1 ={1, 2, 3, 4}\n",
        "set_1.remove(4)\n",
        "print(set_1)\n"
      ],
      "metadata": {
        "id": "VbeQhWSHDz8b"
      },
      "execution_count": null,
      "outputs": []
    },
    {
      "cell_type": "code",
      "source": [
        "# 19. Write a code to find the union of two sets {1, 2, 3} and {3, 4, 5}.\n",
        "set_1 = {1, 2, 3}\n",
        "set_2 = {3, 4, 5}\n",
        "print(set_1.union(set_2))"
      ],
      "metadata": {
        "colab": {
          "base_uri": "https://localhost:8080/"
        },
        "id": "5q7wV83VECRF",
        "outputId": "2fdcc52e-2771-4bcf-8c21-26906c0aa777"
      },
      "execution_count": 13,
      "outputs": [
        {
          "output_type": "stream",
          "name": "stdout",
          "text": [
            "{1, 2, 3, 4, 5}\n"
          ]
        }
      ]
    },
    {
      "cell_type": "code",
      "source": [
        "# 20. Write a code to find the intersection of two sets {1, 2, 3} and {2, 3, 4}.\n",
        "set_1 = {1, 2, 3}\n",
        "set_2 = {2, 3, 4}\n",
        "print(set_1.intersection(set_2))"
      ],
      "metadata": {
        "colab": {
          "base_uri": "https://localhost:8080/"
        },
        "id": "9M6ToUj-EZb8",
        "outputId": "a1216522-a7f5-4208-de56-0f2423250455"
      },
      "execution_count": 14,
      "outputs": [
        {
          "output_type": "stream",
          "name": "stdout",
          "text": [
            "{2, 3}\n"
          ]
        }
      ]
    },
    {
      "cell_type": "code",
      "source": [
        "# 21. Write a code to create a dictionary with the keys \"name\", \"age\", and \"city\", and print it.\n",
        "dict_1 = {\"name\":\"saransh\" , \"age\": \"23\" , \"city\":\"delhi\"}\n",
        "print(dict_1)"
      ],
      "metadata": {
        "colab": {
          "base_uri": "https://localhost:8080/"
        },
        "id": "zrx72lelEpkP",
        "outputId": "ac18496c-9a27-46d2-df7e-9b70dd058e5a"
      },
      "execution_count": 15,
      "outputs": [
        {
          "output_type": "stream",
          "name": "stdout",
          "text": [
            "{'name': 'saransh', 'age': '23', 'city': 'delhi'}\n"
          ]
        }
      ]
    },
    {
      "cell_type": "code",
      "source": [
        "# 22. Write a code to add a new key-value pair \"country\": \"USA\" to the dictionary {'name': 'John', 'age': 25}.\n",
        "dict_1  = {'name': 'John', 'age': 25}\n",
        "dict_1[\"country\"] = \"USA\"\n",
        "print(dict_1)"
      ],
      "metadata": {
        "colab": {
          "base_uri": "https://localhost:8080/"
        },
        "id": "ckvWIHjIE7XR",
        "outputId": "5dacc03d-e475-453c-92da-5000b9da7747"
      },
      "execution_count": 16,
      "outputs": [
        {
          "output_type": "stream",
          "name": "stdout",
          "text": [
            "{'name': 'John', 'age': 25, 'country': 'USA'}\n"
          ]
        }
      ]
    },
    {
      "cell_type": "code",
      "source": [
        "# 23. Write a code to access the value associated with the key \"name\" in the dictionary {'name': 'Alice', 'age': 30}.\n",
        "dict_1 =  {'name': 'Alice', 'age': 30}\n",
        "print(dict_1[\"name\"])\n"
      ],
      "metadata": {
        "id": "2zIlszpiFOJy"
      },
      "execution_count": null,
      "outputs": []
    },
    {
      "cell_type": "code",
      "source": [
        "# 24. Write a code to remove the key \"age\" from the dictionary {'name': 'Bob', 'age': 22, 'city': 'New York'}.\n",
        "dict_1 ={'name': 'Bob', 'age': 22, 'city': 'New York'}\n",
        "dict_1.pop(\"age\")\n",
        "print(dict_1)\n"
      ],
      "metadata": {
        "id": "HITgOb0lFaDC"
      },
      "execution_count": null,
      "outputs": []
    },
    {
      "cell_type": "code",
      "source": [
        "# 25. Write a code to check if the key \"city\" exists in the dictionary {'name': 'Alice', 'city': 'Paris'}.\n",
        "dict_1  ={'name': 'Alice', 'city': 'Paris'}\n",
        "if \"city\" in dict_1:\n",
        "  print(\"City exists in dictionary\")\n",
        "else:\n",
        "  print(\"City does not exists in dictionary\")"
      ],
      "metadata": {
        "colab": {
          "base_uri": "https://localhost:8080/"
        },
        "id": "TDueiPxmFq8V",
        "outputId": "64ff3b08-83dc-487b-8ce6-ab2b3c5a909f"
      },
      "execution_count": 17,
      "outputs": [
        {
          "output_type": "stream",
          "name": "stdout",
          "text": [
            "City exists in dictionary\n"
          ]
        }
      ]
    },
    {
      "cell_type": "code",
      "source": [
        "# 26. Write a code to create a list, a tuple, and a dictionary, and print them all.\n",
        "list_1 = [1,2,3,5]\n",
        "tuple_1  = (7,8,9,67)\n",
        "dictionary  = {\"name\":\"saransh\" , \"age\":23}\n",
        "print(list_1)\n",
        "print(tuple_1)\n",
        "print(dictionary)"
      ],
      "metadata": {
        "colab": {
          "base_uri": "https://localhost:8080/"
        },
        "id": "ZqFzX6ElGAWI",
        "outputId": "5206dbd4-232c-4f6d-c794-6d4a44befbca"
      },
      "execution_count": 18,
      "outputs": [
        {
          "output_type": "stream",
          "name": "stdout",
          "text": [
            "[1, 2, 3, 5]\n",
            "(7, 8, 9, 67)\n",
            "{'name': 'saransh', 'age': 23}\n"
          ]
        }
      ]
    },
    {
      "cell_type": "code",
      "source": [
        "# 27. Write a code to create a list of 5 random numbers between 1 and 100, sort it in ascending order, and print the result.\n",
        "import random\n",
        "list_1 = []\n",
        "for i in range(5):\n",
        "  list_1.append(random.randint(1,100))\n",
        "list_1.sort()\n",
        "print(list_1)\n"
      ],
      "metadata": {
        "colab": {
          "base_uri": "https://localhost:8080/"
        },
        "id": "yBXkTeGfGVVi",
        "outputId": "0e5ccdd7-7c62-42d4-c022-33046f9246c5"
      },
      "execution_count": 20,
      "outputs": [
        {
          "output_type": "stream",
          "name": "stdout",
          "text": [
            "[16, 29, 29, 77, 94]\n"
          ]
        }
      ]
    },
    {
      "cell_type": "code",
      "source": [
        "# 28. Write a code to create a list with strings and print the element at the third index.\n",
        "str_1  = [\"Python\" , \"Java\",\"R\", \"C++\"]\n",
        "print(str_1[2])"
      ],
      "metadata": {
        "id": "R-3c3kBLIU-f"
      },
      "execution_count": null,
      "outputs": []
    },
    {
      "cell_type": "code",
      "source": [
        "# 29. Write a code to combine two dictionaries into one and print the result.\n",
        "dict_1 = {\"name\":\"saransh\" , \"age\":23}\n",
        "dict_2 = {\"city\":\"delhi\" , \"country\":\"India\"}\n",
        "dict_1.update(dict_2)\n",
        "print(dict_1)"
      ],
      "metadata": {
        "id": "eSISuqj0Ipfg"
      },
      "execution_count": null,
      "outputs": []
    },
    {
      "cell_type": "code",
      "source": [
        "# 30. Write a code to convert a list of strings into a set.\n",
        "list_1  = [\"Pyhton\", \"Java\",\"R\",\"C++\"]\n",
        "print(set(list_1))"
      ],
      "metadata": {
        "colab": {
          "base_uri": "https://localhost:8080/"
        },
        "id": "10_544ZvI0wQ",
        "outputId": "8fed05db-bd19-4e97-a8c6-45a56c8865b0"
      },
      "execution_count": 21,
      "outputs": [
        {
          "output_type": "stream",
          "name": "stdout",
          "text": [
            "{'Pyhton', 'R', 'Java', 'C++'}\n"
          ]
        }
      ]
    }
  ]
}